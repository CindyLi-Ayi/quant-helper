{
 "cells": [
  {
   "cell_type": "code",
   "execution_count": null,
   "metadata": {},
   "outputs": [],
   "source": [
    "需求分析\n",
    "设计\n",
    "编码实现(如果涉及，包括现有Python软件资源与第三方包的调研、课程设计采取的复用与改进等情况)\n",
    "测试部署\n",
    "软件使用说明\n",
    "评价与总结\n",
    "小组成员信息(姓名、学号、手机号、email)"
   ]
  }
 ],
 "metadata": {
  "kernelspec": {
   "display_name": "Python 3",
   "language": "python",
   "name": "python3"
  },
  "language_info": {
   "codemirror_mode": {
    "name": "ipython",
    "version": 3
   },
   "file_extension": ".py",
   "mimetype": "text/x-python",
   "name": "python",
   "nbconvert_exporter": "python",
   "pygments_lexer": "ipython3",
   "version": "3.7.4"
  }
 },
 "nbformat": 4,
 "nbformat_minor": 2
}
