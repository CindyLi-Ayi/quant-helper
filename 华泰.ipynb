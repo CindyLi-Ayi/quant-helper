{
 "cells": [
  {
   "cell_type": "code",
   "execution_count": null,
   "metadata": {},
   "outputs": [],
   "source": [
    "import pandas as pd\n",
    "import numpy as np\n",
    "df = DataFrame()"
   ]
  },
  {
   "cell_type": "code",
   "execution_count": null,
   "metadata": {},
   "outputs": [],
   "source": [
    "## 华泰多因子研究框架\n",
    "# input：面板df\n",
    "# 包括个股stock在所有时间time的各种因子值，所属行业industry\n",
    "# double indexed on time and stock\n",
    "class multifactor_model:\n",
    "    def __init__(self,df):\n",
    "        self.input = df\n",
    "    def factor_vs_industry(self,factor,time):# 可视化在某时点上该因子与行业的关系\n",
    "        self.input[time,[factor,industry]].groupby(industry).agg(mean)"
   ]
  }
 ],
 "metadata": {
  "kernelspec": {
   "display_name": "Python 3",
   "language": "python",
   "name": "python3"
  },
  "language_info": {
   "codemirror_mode": {
    "name": "ipython",
    "version": 3
   },
   "file_extension": ".py",
   "mimetype": "text/x-python",
   "name": "python",
   "nbconvert_exporter": "python",
   "pygments_lexer": "ipython3",
   "version": "3.7.4"
  }
 },
 "nbformat": 4,
 "nbformat_minor": 2
}
