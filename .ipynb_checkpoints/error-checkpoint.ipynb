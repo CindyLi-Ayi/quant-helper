{
 "cells": [
  {
   "cell_type": "code",
   "execution_count": null,
   "metadata": {},
   "outputs": [],
   "source": [
    "import tkinter as tk"
   ]
  },
  {
   "cell_type": "code",
   "execution_count": null,
   "metadata": {},
   "outputs": [],
   "source": [
    "def error(msg):\n",
    "    top=tk.Toplevel()\n",
    "    top.geometry('500x100')\n",
    "    top.title('Error')\n",
    "    m1=tk.Label(top,text='OMG...',font=(\"Courier\", 20))\n",
    "    m2=tk.Label(top,text='Something went wrong...',font=(\"Courier\", 20))\n",
    "    m1.pack()\n",
    "    m2.pack()\n",
    "    err=tk.Label(top,text=\"Detailed Error: \"+msg,font=(\"Courier\", 10))\n",
    "    err.pack()"
   ]
  }
 ],
 "metadata": {
  "kernelspec": {
   "display_name": "Python 3",
   "language": "python",
   "name": "python3"
  },
  "language_info": {
   "codemirror_mode": {
    "name": "ipython",
    "version": 3
   },
   "file_extension": ".py",
   "mimetype": "text/x-python",
   "name": "python",
   "nbconvert_exporter": "python",
   "pygments_lexer": "ipython3",
   "version": "3.7.4"
  }
 },
 "nbformat": 4,
 "nbformat_minor": 2
}
