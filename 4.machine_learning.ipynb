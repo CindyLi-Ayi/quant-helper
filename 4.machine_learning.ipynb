{
 "cells": [
  {
   "cell_type": "code",
   "execution_count": null,
   "metadata": {},
   "outputs": [],
   "source": []
  },
  {
   "cell_type": "code",
   "execution_count": 7,
   "metadata": {},
   "outputs": [],
   "source": [
    "import talib as ta\n",
    "import numpy as np\n",
    "import pandas as pd\n",
    "from sklearn import preprocessing\n",
    "from sklearn.decomposition import PCA\n",
    "from sklearn.linear_model import LinearRegression"
   ]
  },
  {
   "cell_type": "code",
   "execution_count": null,
   "metadata": {},
   "outputs": [],
   "source": [
    "class indicator_page(tk.Frame):\n",
    "    def __init__(self,root,data,stock,func_name):\n",
    "        super().__init__(root)\n",
    "        self.root=root\n",
    "        self.data=data\n",
    "        self.stock=stock\n",
    "        self.func_name=func_name\n",
    "        tk.Label(self,text=func_name).pack()\n",
    "        self.p=[]\n",
    "        if func_name in ['Simple Moving Average','Weighted Moving Average','Exponential Moving Average',\\\n",
    "                         'Bollinger Bands','Average Directional Movement Index','Aroon Oscillator',\\\n",
    "                         'Commodity Channel Index','Relative Strength Index','Momentum',\\\n",
    "                         'Average True Range','Normalized Average True Range']:\n",
    "            self.p.append(tk.StringVar())\n",
    "            tk.Label(self,text='period').pack()\n",
    "            e=tk.Entry(self,textvariable=self.p[-1])\n",
    "            e.pack()\n",
    "        if func_name in ['Moving Average Convergence/Divergence']:\n",
    "            for arg in ['fastperiod', 'slowperiod', 'signalperiod']:\n",
    "                self.p.append(tk.StringVar())\n",
    "                tk.Label(self,text=arg).pack()\n",
    "                e=tk.Entry(self,textvariable=self.p[-1])\n",
    "                e.pack()\n",
    "        if func_name in ['Absolute Price Oscillator','Percentage Price Oscillator','Chaikin A/D Oscillator']:\n",
    "            for arg in ['fastperiod', 'slowperiod']:\n",
    "                self.p.append(tk.StringVar())\n",
    "                tk.Label(self,text=arg).pack()\n",
    "                e=tk.Entry(self,textvariable=self.p[-1])\n",
    "                e.pack()\n",
    "        if func_name in ['Balance Of Power','Chaikin A/D Line','On Balance Volume','True Range']:\n",
    "            tk.Label(self,text='No argument needed').pack()\n",
    "            \n",
    "        self.root.bind('<Return>',self.cal)\n",
    "\n",
    "        f =Figure(figsize=(5,4), dpi=100)\n",
    "        self.a = f.add_subplot(111)\n",
    "        self.canvas =FigureCanvasTkAgg(f, master=self)\n",
    "        self.canvas._tkcanvas.pack(side='bottom', fill=\"both\", expand=True)\n",
    "    def cal(self):\n",
    "        self.indicator=pd.DataFrame(index=self.data.index)\n",
    "        \n",
    "        try:\n",
    "            self.a.clear()\n",
    "            param=[int(p.get()) for p in self.p]\n",
    "            if self.func_name=='Simple Moving Average':\n",
    "                 self.data[func_name]=ta.SMA(close, *param)\n",
    "            else if self.func_name=='Weighted Moving Average':\n",
    "                 self.data[func_name]=ta.WMA(close, *param)\n",
    "            else if self.func_name=='Exponential Moving Average':\n",
    "                 self.data[func_name]=ta.EMA(close, *param)\n",
    "            else if self.func_name=='Bollinger Bands':\n",
    "                 self.data['upperband'],self.data['middleband'],self.data['lowerband']=ta.BBANDS(close, *param)\n",
    "            else if self.func_name=='Average Directional Movement Index':\n",
    "                 self.data[func_name]=ta.ADX(high,low,close, *param)\n",
    "            else if self.func_name=='Aroon Oscillator':\n",
    "                 self.data[func_name]=ta.AROONOSC(high,low, *param)\n",
    "            else if self.func_name=='Commodity Channel Index':\n",
    "                 self.data[func_name]=ta.CCI(high,low,close, *param)\n",
    "            else if self.func_name=='Relative Strength Index':\n",
    "                 self.data[func_name]=ta.RSI(close, *param)\n",
    "            else if self.func_name=='Momentum':\n",
    "                 self.data[func_name]=ta.MOM(close, *param)\n",
    "            else if self.func_name=='Average True Range':\n",
    "                 self.data[func_name]=ta.TRANGE(high, low, close, *param)\n",
    "            else if self.func_name=='Normalized Average True Range':\n",
    "                 self.data[func_name]=ta.NATR(high, low, close, *param)\n",
    "            else if self.func_name=='True Range':\n",
    "                 self.data[func_name]=ta.ATR(high, low, close, *param)\n",
    "            else if self.func_name=='Moving Average Convergence/Divergence':\n",
    "                 self.data['macd'],self.data['macdsignal'],self.data['macdhist']=ta.MACD(close, *param)\n",
    "            else if self.func_name=='Absolute Price Oscillator':\n",
    "                 self.data[func_name]=ta.APO(close, *param)\n",
    "            else if self.func_name=='Percentage Price Oscillator':\n",
    "                 self.data[func_name]=ta.PPO(close, *param)\n",
    "            else if self.func_name=='Chaikin A/D Line':\n",
    "                 self.data[func_name]=ta.AD(high, low, close, volume, *param)\n",
    "            else if self.func_name=='Chaikin A/D Oscillator':\n",
    "                 self.data[func_name]=ta.ADOSC(high, low, close, volume, *param)\n",
    "            else if self.func_name=='On Balance Volume':\n",
    "                 self.data[func_name]=ta.OBV(close, volume, *param)\n",
    "            else if self.func_name=='Balance Of Power':\n",
    "                 self.data[func_name]=ta.BOP(open, high, low, close, *param)\n",
    "            if func_name not in ['Bollinger Bands','Moving Average Convergence/Divergence']:\n",
    "                sns.lineplot(x=self.data.index,y=self.data.loc[:,func_name],ax=self.a)\n",
    "            self.a.hist(self.data.loc[:,col])\n",
    "            self.canvas.draw()\n",
    "        except:\n",
    "            tk.Label(self,text='Invalid parameter input').pack()\n",
    "        "
   ]
  },
  {
   "cell_type": "code",
   "execution_count": 13,
   "metadata": {},
   "outputs": [],
   "source": [
    "def remove_outlier(df,k=5):\n",
    "    n,m=df.shape\n",
    "    for i in range(n):\n",
    "        median=np.median(df.iloc[i,:])\n",
    "        sd=np.median(np.abs((df.iloc[i,:]-median)))\n",
    "        ub,lb=median+k*sd,median-k*sd\n",
    "        df.iloc[i,:]=df.iloc[i,:].map(lambda x:min(ub,max(lb,x)))\n",
    "    return df"
   ]
  },
  {
   "cell_type": "code",
   "execution_count": null,
   "metadata": {},
   "outputs": [],
   "source": [
    "def scale(df):\n",
    "#     zero mean, unit variance\n",
    "    return pd.DataFrame(preprocessing.scale(df.values))"
   ]
  },
  {
   "cell_type": "code",
   "execution_count": null,
   "metadata": {},
   "outputs": [],
   "source": [
    "def svm(df, k='mle'):\n",
    "#     if k in (0,1), returns the component that has a explained_variance_ratio_ > k\n",
    "    return PCA(n_components=k).fit_transform(df.values)"
   ]
  },
  {
   "cell_type": "code",
   "execution_count": 6,
   "metadata": {},
   "outputs": [
    {
     "data": {
      "text/plain": [
       "[1, 3, 2]"
      ]
     },
     "execution_count": 6,
     "metadata": {},
     "output_type": "execute_result"
    }
   ],
   "source": [
    "# linear regression\n"
   ]
  },
  {
   "cell_type": "code",
   "execution_count": null,
   "metadata": {},
   "outputs": [],
   "source": [
    "a=pd.Series({'msft':'tech','appl':'tech','taobao':'paly'})\n",
    "a['jingd']='few'\n",
    "pd.get_dummies(a)"
   ]
  }
 ],
 "metadata": {
  "kernelspec": {
   "display_name": "Python 3",
   "language": "python",
   "name": "python3"
  },
  "language_info": {
   "codemirror_mode": {
    "name": "ipython",
    "version": 3
   },
   "file_extension": ".py",
   "mimetype": "text/x-python",
   "name": "python",
   "nbconvert_exporter": "python",
   "pygments_lexer": "ipython3",
   "version": "3.7.4"
  }
 },
 "nbformat": 4,
 "nbformat_minor": 2
}
